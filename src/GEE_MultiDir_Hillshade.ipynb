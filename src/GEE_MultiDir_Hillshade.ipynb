{
  "nbformat": 4,
  "nbformat_minor": 0,
  "metadata": {
    "colab": {
      "name": "GEE_MultiDir_Hillshade.ipynb",
      "provenance": [],
      "collapsed_sections": [],
      "toc_visible": true,
      "machine_shape": "hm"
    },
    "kernelspec": {
      "name": "python3",
      "display_name": "Python 3"
    },
    "language_info": {
      "name": "python"
    },
    "gpuClass": "standard"
  },
  "cells": [
    {
      "cell_type": "markdown",
      "source": [
        "## Setting Up"
      ],
      "metadata": {
        "id": "ie5pUT7ff0_i"
      }
    },
    {
      "cell_type": "code",
      "execution_count": null,
      "metadata": {
        "colab": {
          "base_uri": "https://localhost:8080/"
        },
        "id": "vTnwt4Q-dhS6",
        "outputId": "fb5d6d1d-6b89-4af2-f26f-e0291484be64"
      },
      "outputs": [
        {
          "output_type": "stream",
          "name": "stdout",
          "text": [
            "Mounted at /content/drive\n"
          ]
        }
      ],
      "source": [
        "from google.colab import drive # import drive from google colab\n",
        "ROOT = \"/content/drive\"     # default location for the drive\n",
        "\n",
        "drive.mount(ROOT)   "
      ]
    },
    {
      "cell_type": "code",
      "source": [
        "import os\n",
        "rootPath = '/content/drive/My Drive/hillshade product'\n",
        "os.chdir(rootPath)"
      ],
      "metadata": {
        "id": "ulMJOfEEdlu5"
      },
      "execution_count": null,
      "outputs": []
    },
    {
      "cell_type": "code",
      "source": [
        "!pip install geopandas\n",
        "!pip install rasterio"
      ],
      "metadata": {
        "id": "Q5Z4EzL0d8i2"
      },
      "execution_count": null,
      "outputs": []
    },
    {
      "cell_type": "code",
      "source": [
        "import numpy as np\n",
        "import geopandas as gpd\n",
        "from matplotlib import pyplot as plt\n",
        "from pathlib import Path\n",
        "import rasterio\n",
        "import os"
      ],
      "metadata": {
        "id": "SYNinomadzE3"
      },
      "execution_count": null,
      "outputs": []
    },
    {
      "cell_type": "markdown",
      "source": [
        "## Connect to GEE"
      ],
      "metadata": {
        "id": "d8Ybjli-eIx9"
      }
    },
    {
      "cell_type": "code",
      "source": [
        "# initialize and connect to GEE \n",
        "from google.colab import auth\n",
        "auth.authenticate_user()\n",
        "# !earthengine authenticate\n",
        "import ee \n",
        "ee.Initialize()"
      ],
      "metadata": {
        "id": "zPOtZNj6d4tJ"
      },
      "execution_count": null,
      "outputs": []
    },
    {
      "cell_type": "code",
      "source": [
        "# Installs geemap package\n",
        "import subprocess\n",
        "\n",
        "try:\n",
        "    import geemap\n",
        "except ImportError:\n",
        "    print('geemap package not installed. Installing ...')\n",
        "    subprocess.check_call([\"python\", '-m', 'pip', 'install', 'geemap'])\n",
        "\n",
        "# Checks whether this notebook is running on Google Colab\n",
        "try:\n",
        "    import google.colab\n",
        "    import geemap.eefolium as emap\n",
        "except:\n",
        "    import geemap as emap"
      ],
      "metadata": {
        "id": "w3aSFKT5hx5L"
      },
      "execution_count": null,
      "outputs": []
    },
    {
      "cell_type": "markdown",
      "source": [
        "# GET US Data Products (10m)"
      ],
      "metadata": {
        "id": "ADgU2u6lj1eN"
      }
    },
    {
      "cell_type": "markdown",
      "source": [
        "## USGS 3DEP National Map Seamless 10m (USA)"
      ],
      "metadata": {
        "id": "XWfsIOkngFcr"
      }
    },
    {
      "cell_type": "code",
      "source": [
        "USGS_3DEP_10m = ee.Image('USGS/3DEP/10m').multiply(4)\n",
        "USGS_3DEP_10m_ELEV = USGS_3DEP_10m.select('elevation')\n",
        "USGS_3DEP_10m_SLOPE = ee.Terrain.slope(USGS_3DEP_10m_ELEV)"
      ],
      "metadata": {
        "id": "FOXw2GTqhCCG"
      },
      "execution_count": null,
      "outputs": []
    },
    {
      "cell_type": "markdown",
      "source": [
        "## USGS NED 10m (USA)"
      ],
      "metadata": {
        "id": "wdTmV1hZfMdd"
      }
    },
    {
      "cell_type": "code",
      "source": [
        "USGS_NED_10m = ee.Image('USGS/NED')\n",
        "USGS_NED_10m_ELEV = USGS_NED_10m.select('elevation')\n",
        "USGS_NED_10m_SLOPE = ee.Terrain.slope(USGS_NED_10m_ELEV)"
      ],
      "metadata": {
        "id": "O2XgJOJ4eKWY"
      },
      "execution_count": null,
      "outputs": []
    },
    {
      "cell_type": "markdown",
      "source": [
        "# GET Global Data Products (30m)"
      ],
      "metadata": {
        "id": "uGO3vYBUj5Yu"
      }
    },
    {
      "cell_type": "markdown",
      "source": [
        "## SRTM 30m (GLOBAL)"
      ],
      "metadata": {
        "id": "IYcTpCF7fROJ"
      }
    },
    {
      "cell_type": "code",
      "source": [
        "SRTM = ee.Image('USGS/SRTMGL1_003').multiply(4)"
      ],
      "metadata": {
        "id": "EKrtrhgvfVMZ"
      },
      "execution_count": null,
      "outputs": []
    },
    {
      "cell_type": "markdown",
      "source": [
        "## ALOS Digital Surface Model 30m (GLOBAL)"
      ],
      "metadata": {
        "id": "Tg468FeFfYpb"
      }
    },
    {
      "cell_type": "code",
      "source": [
        "# /* ALOS DSM: Global 30m */\n",
        "ALOS = ee.Image('JAXA/ALOS/AW3D30/V2_2').multiply(4)"
      ],
      "metadata": {
        "id": "I9OQfE-ofhjP"
      },
      "execution_count": null,
      "outputs": []
    },
    {
      "cell_type": "markdown",
      "source": [
        "## ETOPO1 Bathymetry 30m (GLOBAL)"
      ],
      "metadata": {
        "id": "Cj0kkuYufjKF"
      }
    },
    {
      "cell_type": "code",
      "source": [
        "# /* ETOPO1: Global 1 Arc-Minute Elevation */\n",
        "NOAA = ee.Image('NOAA/NGDC/ETOPO1')"
      ],
      "metadata": {
        "id": "X5298v3efrIh"
      },
      "execution_count": null,
      "outputs": []
    },
    {
      "cell_type": "markdown",
      "source": [
        "## Water Layer"
      ],
      "metadata": {
        "id": "4SF4xitPjI2J"
      }
    },
    {
      "cell_type": "code",
      "source": [
        "# /* JRC Global Surface Water Mapping Layers, v1.2 */\n",
        "GSWM = ee.Image('JRC/GSW1_0/GlobalSurfaceWater')"
      ],
      "metadata": {
        "id": "vMsfMUHpjK8g"
      },
      "execution_count": null,
      "outputs": []
    },
    {
      "cell_type": "markdown",
      "source": [
        "# Apply Hillshade"
      ],
      "metadata": {
        "id": "YK0kjH2zfuMF"
      }
    },
    {
      "cell_type": "code",
      "source": [
        "def multiDir_Hillshade(ALOS):\n",
        "  N = ee.Terrain.hillshade(ALOS,0,36).multiply(0);\n",
        "  NE = ee.Terrain.hillshade(ALOS,45,44).multiply(0);\n",
        "  E = ee.Terrain.hillshade(ALOS,90,56).multiply(0);\n",
        "  SE = ee.Terrain.hillshade(ALOS,135,68).multiply(0);\n",
        "  S = ee.Terrain.hillshade(ALOS,180,80).multiply(0.1);\n",
        "  SW = ee.Terrain.hillshade(ALOS,225,68).multiply(0.2);\n",
        "  W = ee.Terrain.hillshade(ALOS,270,56).multiply(0.2);\n",
        "  NW = ee.Terrain.hillshade(ALOS,315,44).multiply(0.5);\n",
        "  MULTI = N.add(NE).add(E).add(SE).add(S).add(SW).add(W).add(NW).visualize(**{'min':0,'max':255,'palette':[\n",
        "        '#000000',\n",
        "        '#ffffff'\n",
        "        ],\n",
        "    }).resample('bicubic').updateMask(0.5)\n",
        "  SLOPE = ee.Terrain.slope(ALOS).visualize(**{'min':0,'max':180,'palette':['#ffffff','#000000']}).resample('bicubic').updateMask(1)\n",
        "  SHADED_RELIEF = ee.ImageCollection([SLOPE,MULTI]).mosaic().reduce(ee.Reducer.median()).updateMask(1)\n",
        "  return SHADED_RELIEF"
      ],
      "metadata": {
        "id": "xZ7LjPXjrt_5"
      },
      "execution_count": null,
      "outputs": []
    },
    {
      "cell_type": "markdown",
      "source": [
        "### Define Traditional Hillshade Weights"
      ],
      "metadata": {
        "id": "1EasnVqsqWHg"
      }
    },
    {
      "cell_type": "code",
      "source": [
        "# /* TERRAIN */\n",
        "# /* Traditional Hillshade (input,azimuth,altitude).multiply(weight) */\n",
        "N = ee.Terrain.hillshade(ALOS,0,36).multiply(0);\n",
        "NE = ee.Terrain.hillshade(ALOS,45,44).multiply(0);\n",
        "E = ee.Terrain.hillshade(ALOS,90,56).multiply(0);\n",
        "SE = ee.Terrain.hillshade(ALOS,135,68).multiply(0);\n",
        "S = ee.Terrain.hillshade(ALOS,180,80).multiply(0.1);\n",
        "SW = ee.Terrain.hillshade(ALOS,225,68).multiply(0.2);\n",
        "W = ee.Terrain.hillshade(ALOS,270,56).multiply(0.2);\n",
        "NW = ee.Terrain.hillshade(ALOS,315,44).multiply(0.5);"
      ],
      "metadata": {
        "id": "PVAl2GdXqVj1"
      },
      "execution_count": null,
      "outputs": []
    },
    {
      "cell_type": "markdown",
      "source": [
        "### Create Multidirectional Hillshade Layer"
      ],
      "metadata": {
        "id": "QBkDNHQorGXG"
      }
    },
    {
      "cell_type": "code",
      "source": [
        "# /* Multidirectional Hillshade */\n",
        "MULTI = N.add(NE).add(E).add(SE).add(S).add(SW).add(W).add(NW).visualize(**{'min':0,'max':255,'palette':[\n",
        "        '#000000',\n",
        "        '#ffffff'\n",
        "        ],\n",
        "    }).resample('bicubic').updateMask(0.5)"
      ],
      "metadata": {
        "id": "_DfyJqrnfxxa"
      },
      "execution_count": null,
      "outputs": []
    },
    {
      "cell_type": "markdown",
      "source": [
        "# Apply Slope"
      ],
      "metadata": {
        "id": "Fa-nTJR1rLo3"
      }
    },
    {
      "cell_type": "code",
      "source": [
        "# /* Slope */\n",
        "SLOPE = ee.Terrain.slope(ALOS).visualize(**{'min':0,'max':180,'palette':['#ffffff','#000000']}).resample('bicubic').updateMask(1)"
      ],
      "metadata": {
        "id": "e5LMSjaNq5UO"
      },
      "execution_count": null,
      "outputs": []
    },
    {
      "cell_type": "markdown",
      "source": [
        "# Shaded Relief \n",
        "\n",
        "Combination of Multidirectional hillshade and slope"
      ],
      "metadata": {
        "id": "Vq_BTMOqrlz6"
      }
    },
    {
      "cell_type": "code",
      "source": [
        "SHADED_RELIEF = ee.ImageCollection([SLOPE,MULTI]).mosaic().reduce(ee.Reducer.median()).updateMask(1)"
      ],
      "metadata": {
        "id": "QUA3jskqrpjH"
      },
      "execution_count": null,
      "outputs": []
    },
    {
      "cell_type": "markdown",
      "source": [
        "# Other Layers"
      ],
      "metadata": {
        "id": "7PQN3Q50w8gS"
      }
    },
    {
      "cell_type": "markdown",
      "source": [
        "## Hypsometric Tinting"
      ],
      "metadata": {
        "id": "SpA-j75p1s42"
      }
    },
    {
      "cell_type": "code",
      "source": [
        "# /* Elevation */\n",
        "ELEVATION = ALOS.visualize(**{'bands':['AVE_DSM'],'min':0,'max':12500,\n",
        "        'palette':[\n",
        "            '#386641',\n",
        "            '#6a994e',\n",
        "            '#a7c957',\n",
        "            '#fdf7d6',\n",
        "            '#ffffff'\n",
        "            ]\n",
        "        }).resample('bicubic').updateMask(0.3)"
      ],
      "metadata": {
        "id": "4VNG8EUB1tib"
      },
      "execution_count": null,
      "outputs": []
    },
    {
      "cell_type": "markdown",
      "source": [
        "## Add Surface Water"
      ],
      "metadata": {
        "id": "iVOicclW2rgf"
      }
    },
    {
      "cell_type": "code",
      "source": [
        "SURFACE_WATER = GSWM.visualize(**{'bands':['occurrence'],\n",
        "        'min':0,\n",
        "        'max':100,\n",
        "        'palette':[\n",
        "            '#B9E9E7'\n",
        "            ]\n",
        "        }).resample('bicubic').updateMask(1)"
      ],
      "metadata": {
        "id": "A0f4vg3w2vIR"
      },
      "execution_count": null,
      "outputs": []
    },
    {
      "cell_type": "markdown",
      "source": [
        "## Add Ocean Water"
      ],
      "metadata": {
        "id": "9mJWGOT45N9j"
      }
    },
    {
      "cell_type": "code",
      "source": [
        "OCEAN = ALOS.updateMask(ALOS.lte(0)).visualize(**{\n",
        "        'bands':['AVE_DSM'],\n",
        "        'min':0,\n",
        "        'max':0,\n",
        "        'palette':[\n",
        "            'B9E9E7'\n",
        "            ]\n",
        "        }).resample('bicubic');"
      ],
      "metadata": {
        "id": "u0r56gQR5QpK"
      },
      "execution_count": null,
      "outputs": []
    },
    {
      "cell_type": "markdown",
      "source": [
        "## Add Bathymetry "
      ],
      "metadata": {
        "id": "ovFItIQJ53y9"
      }
    },
    {
      "cell_type": "code",
      "source": [
        "BATHYMETRY = NOAA.updateMask(NOAA.lte(-10)).visualize(**{\n",
        "        'bands':['bedrock'],\n",
        "        'min':-5000,\n",
        "        'max':0,\n",
        "        'palette':[\n",
        "            '#8ECCCB',\n",
        "            '#ABE0DF',\n",
        "            'B9E9E7'\n",
        "            ]\n",
        "        }).resample('bicubic');"
      ],
      "metadata": {
        "id": "6kBCHxuD57Ln"
      },
      "execution_count": null,
      "outputs": []
    },
    {
      "cell_type": "markdown",
      "source": [
        "# Visualize"
      ],
      "metadata": {
        "id": "bTz95ITLydcN"
      }
    },
    {
      "cell_type": "code",
      "source": [
        "USGS_DEM_10m = multiDir_Hillshade(USGS_3DEP_10m)\n",
        "ALOS_DSM_30m = multiDir_Hillshade(ALOS)\n",
        "SRTM_DEM_30m = multiDir_Hillshade(SRTM)"
      ],
      "metadata": {
        "id": "31yLFlXqsF2h"
      },
      "execution_count": null,
      "outputs": []
    },
    {
      "cell_type": "code",
      "source": [
        "Map = emap.Map(center=[37.7799, -122.4509], zoom=13)\n",
        "Map.add_basemap('TERRAIN')\n",
        "\n",
        "Map.addLayer(ALOS_DSM_30m, {'min':0,'max':255,'gamma':1}, 'ALOS_DSM_30m') \n",
        "Map.addLayer(SRTM_DEM_30m, {'min':0,'max':255,'gamma':1}, 'SRTM_DEM_30m') \n",
        "Map.addLayer(USGS_DEM_10m, {'min':0,'max':255,'gamma':1}, 'USGS_3DEP_10m')\n",
        " \n",
        "# Map.addLayer(ELEVATION,{},'TINTED')\n",
        "# Map.addLayer(SURFACE_WATER,{},'Surface Water')\n",
        "# Map.addLayer(OCEAN,{},'OCEAN')\n",
        "# Map.addLayer(BATHYMETRY,{},'BATHYMETRY', 'false')\n",
        "Map.addLayerControl()\n",
        "Map"
      ],
      "metadata": {
        "colab": {
          "base_uri": "https://localhost:8080/",
          "height": 629
        },
        "id": "DVUeE-zfquVT",
        "outputId": "8991ae37-7186-4f8e-f381-6252ab5cbd3f"
      },
      "execution_count": 92,
      "outputs": [
        {
          "output_type": "execute_result",
          "data": {
            "text/plain": [
              "<geemap.eefolium.Map at 0x7f5902ad18d0>"
            ],
            "text/html": [
              "<div style=\"width:100%;\"><div style=\"position:relative;width:100%;height:0;padding-bottom:60%;\"><span style=\"color:#565656\">Make this Notebook Trusted to load map: File -> Trust Notebook</span><iframe srcdoc=\"&lt;!DOCTYPE html&gt;\n",
              "&lt;head&gt;    \n",
              "    &lt;meta http-equiv=&quot;content-type&quot; content=&quot;text/html; charset=UTF-8&quot; /&gt;\n",
              "    \n",
              "        &lt;script&gt;\n",
              "            L_NO_TOUCH = false;\n",
              "            L_DISABLE_3D = false;\n",
              "        &lt;/script&gt;\n",
              "    \n",
              "    &lt;style&gt;html, body {width: 100%;height: 100%;margin: 0;padding: 0;}&lt;/style&gt;\n",
              "    &lt;style&gt;#map {position:absolute;top:0;bottom:0;right:0;left:0;}&lt;/style&gt;\n",
              "    &lt;script src=&quot;https://cdn.jsdelivr.net/npm/leaflet@1.6.0/dist/leaflet.js&quot;&gt;&lt;/script&gt;\n",
              "    &lt;script src=&quot;https://code.jquery.com/jquery-1.12.4.min.js&quot;&gt;&lt;/script&gt;\n",
              "    &lt;script src=&quot;https://maxcdn.bootstrapcdn.com/bootstrap/3.2.0/js/bootstrap.min.js&quot;&gt;&lt;/script&gt;\n",
              "    &lt;script src=&quot;https://cdnjs.cloudflare.com/ajax/libs/Leaflet.awesome-markers/2.0.2/leaflet.awesome-markers.js&quot;&gt;&lt;/script&gt;\n",
              "    &lt;link rel=&quot;stylesheet&quot; href=&quot;https://cdn.jsdelivr.net/npm/leaflet@1.6.0/dist/leaflet.css&quot;/&gt;\n",
              "    &lt;link rel=&quot;stylesheet&quot; href=&quot;https://maxcdn.bootstrapcdn.com/bootstrap/3.2.0/css/bootstrap.min.css&quot;/&gt;\n",
              "    &lt;link rel=&quot;stylesheet&quot; href=&quot;https://maxcdn.bootstrapcdn.com/bootstrap/3.2.0/css/bootstrap-theme.min.css&quot;/&gt;\n",
              "    &lt;link rel=&quot;stylesheet&quot; href=&quot;https://maxcdn.bootstrapcdn.com/font-awesome/4.6.3/css/font-awesome.min.css&quot;/&gt;\n",
              "    &lt;link rel=&quot;stylesheet&quot; href=&quot;https://cdnjs.cloudflare.com/ajax/libs/Leaflet.awesome-markers/2.0.2/leaflet.awesome-markers.css&quot;/&gt;\n",
              "    &lt;link rel=&quot;stylesheet&quot; href=&quot;https://cdn.jsdelivr.net/gh/python-visualization/folium/folium/templates/leaflet.awesome.rotate.min.css&quot;/&gt;\n",
              "    \n",
              "            &lt;meta name=&quot;viewport&quot; content=&quot;width=device-width,\n",
              "                initial-scale=1.0, maximum-scale=1.0, user-scalable=no&quot; /&gt;\n",
              "            &lt;style&gt;\n",
              "                #map_b34a62bc7bbe348813084a2d654719a7 {\n",
              "                    position: relative;\n",
              "                    width: 100.0%;\n",
              "                    height: 100.0%;\n",
              "                    left: 0.0%;\n",
              "                    top: 0.0%;\n",
              "                }\n",
              "            &lt;/style&gt;\n",
              "        \n",
              "    &lt;script src=&quot;https://cdnjs.cloudflare.com/ajax/libs/leaflet.fullscreen/1.4.2/Control.FullScreen.min.js&quot;&gt;&lt;/script&gt;\n",
              "    &lt;link rel=&quot;stylesheet&quot; href=&quot;https://cdnjs.cloudflare.com/ajax/libs/leaflet.fullscreen/1.4.2/Control.FullScreen.min.css&quot;/&gt;\n",
              "&lt;/head&gt;\n",
              "&lt;body&gt;    \n",
              "    \n",
              "            &lt;div class=&quot;folium-map&quot; id=&quot;map_b34a62bc7bbe348813084a2d654719a7&quot; &gt;&lt;/div&gt;\n",
              "        \n",
              "&lt;/body&gt;\n",
              "&lt;script&gt;    \n",
              "    \n",
              "            var map_b34a62bc7bbe348813084a2d654719a7 = L.map(\n",
              "                &quot;map_b34a62bc7bbe348813084a2d654719a7&quot;,\n",
              "                {\n",
              "                    center: [37.7799, -122.4509],\n",
              "                    crs: L.CRS.EPSG3857,\n",
              "                    zoom: 13,\n",
              "                    zoomControl: true,\n",
              "                    preferCanvas: false,\n",
              "                    eeInitialize: true,\n",
              "                    addGoogleMap: true,\n",
              "                    pluginLatlngpopup: true,\n",
              "                    pluginFullscreen: true,\n",
              "                    pluginDraw: false,\n",
              "                    DrawExport: true,\n",
              "                    pluginMinimap: false,\n",
              "                    pluginLayercontrol: false,\n",
              "                }\n",
              "            );\n",
              "\n",
              "            \n",
              "\n",
              "        \n",
              "    \n",
              "            var tile_layer_3469573c85b0aa481c521567bb37bc4f = L.tileLayer(\n",
              "                &quot;https://{s}.tile.openstreetmap.org/{z}/{x}/{y}.png&quot;,\n",
              "                {&quot;attribution&quot;: &quot;Data by \\u0026copy; \\u003ca href=\\&quot;http://openstreetmap.org\\&quot;\\u003eOpenStreetMap\\u003c/a\\u003e, under \\u003ca href=\\&quot;http://www.openstreetmap.org/copyright\\&quot;\\u003eODbL\\u003c/a\\u003e.&quot;, &quot;detectRetina&quot;: false, &quot;maxNativeZoom&quot;: 18, &quot;maxZoom&quot;: 18, &quot;minZoom&quot;: 0, &quot;noWrap&quot;: false, &quot;opacity&quot;: 1, &quot;subdomains&quot;: &quot;abc&quot;, &quot;tms&quot;: false}\n",
              "            ).addTo(map_b34a62bc7bbe348813084a2d654719a7);\n",
              "        \n",
              "    \n",
              "            var tile_layer_c6b41884eb4257417249c89420fdb529 = L.tileLayer(\n",
              "                &quot;https://mt1.google.com/vt/lyrs=m\\u0026x={x}\\u0026y={y}\\u0026z={z}&quot;,\n",
              "                {&quot;attribution&quot;: &quot;Google&quot;, &quot;detectRetina&quot;: false, &quot;maxNativeZoom&quot;: 18, &quot;maxZoom&quot;: 18, &quot;minZoom&quot;: 0, &quot;noWrap&quot;: false, &quot;opacity&quot;: 1, &quot;subdomains&quot;: &quot;abc&quot;, &quot;tms&quot;: false}\n",
              "            ).addTo(map_b34a62bc7bbe348813084a2d654719a7);\n",
              "        \n",
              "    \n",
              "                var lat_lng_popup_4abd391f9b3d46e1eab915994ab9ca86 = L.popup();\n",
              "                function latLngPop(e) {\n",
              "                    lat_lng_popup_4abd391f9b3d46e1eab915994ab9ca86\n",
              "                        .setLatLng(e.latlng)\n",
              "                        .setContent(&quot;Latitude: &quot; + e.latlng.lat.toFixed(4) +\n",
              "                                    &quot;&lt;br&gt;Longitude: &quot; + e.latlng.lng.toFixed(4))\n",
              "                        .openOn(map_b34a62bc7bbe348813084a2d654719a7);\n",
              "                    }\n",
              "                map_b34a62bc7bbe348813084a2d654719a7.on(&#x27;click&#x27;, latLngPop);\n",
              "            \n",
              "    \n",
              "            L.control.fullscreen(\n",
              "                {&quot;forceSeparateButton&quot;: false, &quot;position&quot;: &quot;topleft&quot;, &quot;title&quot;: &quot;Full Screen&quot;, &quot;titleCancel&quot;: &quot;Exit Full Screen&quot;}\n",
              "            ).addTo(map_b34a62bc7bbe348813084a2d654719a7);\n",
              "        \n",
              "    \n",
              "            map_b34a62bc7bbe348813084a2d654719a7.fitBounds(\n",
              "                [[37.7799, -122.4509], [37.7799, -122.4509]],\n",
              "                {&quot;maxZoom&quot;: 13}\n",
              "            );\n",
              "        \n",
              "    \n",
              "            var tile_layer_93faa043f36ec73fa1171d20b3384410 = L.tileLayer(\n",
              "                &quot;https://mt1.google.com/vt/lyrs=p\\u0026x={x}\\u0026y={y}\\u0026z={z}&quot;,\n",
              "                {&quot;attribution&quot;: &quot;Google&quot;, &quot;detectRetina&quot;: false, &quot;maxNativeZoom&quot;: 18, &quot;maxZoom&quot;: 18, &quot;minZoom&quot;: 0, &quot;noWrap&quot;: false, &quot;opacity&quot;: 1, &quot;subdomains&quot;: &quot;abc&quot;, &quot;tms&quot;: false}\n",
              "            ).addTo(map_b34a62bc7bbe348813084a2d654719a7);\n",
              "        \n",
              "    \n",
              "            var tile_layer_d89c209df839f3774d15b3316d01cabf = L.tileLayer(\n",
              "                &quot;https://earthengine.googleapis.com/v1alpha/projects/earthengine-legacy/maps/9915285c89d0d34616572c98d9f6e8d3-e1d73c1977c97b19d25da1fddcfbfc2d/tiles/{z}/{x}/{y}&quot;,\n",
              "                {&quot;attribution&quot;: &quot;Google Earth Engine&quot;, &quot;detectRetina&quot;: false, &quot;maxNativeZoom&quot;: 18, &quot;maxZoom&quot;: 18, &quot;minZoom&quot;: 0, &quot;noWrap&quot;: false, &quot;opacity&quot;: 1.0, &quot;subdomains&quot;: &quot;abc&quot;, &quot;tms&quot;: false}\n",
              "            ).addTo(map_b34a62bc7bbe348813084a2d654719a7);\n",
              "        \n",
              "    \n",
              "            var tile_layer_719e4673fe7670d0bbe30fb3ca539e81 = L.tileLayer(\n",
              "                &quot;https://earthengine.googleapis.com/v1alpha/projects/earthengine-legacy/maps/69c3acfa23a372aebea06f5d62f44c9c-adf64c7c0047a65f524904e50a80fd09/tiles/{z}/{x}/{y}&quot;,\n",
              "                {&quot;attribution&quot;: &quot;Google Earth Engine&quot;, &quot;detectRetina&quot;: false, &quot;maxNativeZoom&quot;: 18, &quot;maxZoom&quot;: 18, &quot;minZoom&quot;: 0, &quot;noWrap&quot;: false, &quot;opacity&quot;: 1.0, &quot;subdomains&quot;: &quot;abc&quot;, &quot;tms&quot;: false}\n",
              "            ).addTo(map_b34a62bc7bbe348813084a2d654719a7);\n",
              "        \n",
              "    \n",
              "            var tile_layer_e6f12dbf6ba0f85d9602e4f71a40bf04 = L.tileLayer(\n",
              "                &quot;https://earthengine.googleapis.com/v1alpha/projects/earthengine-legacy/maps/06c655b19f0b3e4e168551107c157728-d2e586da50248ffd050539528f18fb2a/tiles/{z}/{x}/{y}&quot;,\n",
              "                {&quot;attribution&quot;: &quot;Google Earth Engine&quot;, &quot;detectRetina&quot;: false, &quot;maxNativeZoom&quot;: 18, &quot;maxZoom&quot;: 18, &quot;minZoom&quot;: 0, &quot;noWrap&quot;: false, &quot;opacity&quot;: 1.0, &quot;subdomains&quot;: &quot;abc&quot;, &quot;tms&quot;: false}\n",
              "            ).addTo(map_b34a62bc7bbe348813084a2d654719a7);\n",
              "        \n",
              "    \n",
              "            var layer_control_ae2e6d752bd143acafe208bc8c509837 = {\n",
              "                base_layers : {\n",
              "                    &quot;openstreetmap&quot; : tile_layer_3469573c85b0aa481c521567bb37bc4f,\n",
              "                },\n",
              "                overlays :  {\n",
              "                    &quot;Google Maps&quot; : tile_layer_c6b41884eb4257417249c89420fdb529,\n",
              "                    &quot;Google Terrain&quot; : tile_layer_93faa043f36ec73fa1171d20b3384410,\n",
              "                    &quot;ALOS_DSM_30m&quot; : tile_layer_d89c209df839f3774d15b3316d01cabf,\n",
              "                    &quot;SRTM_DEM_30m&quot; : tile_layer_719e4673fe7670d0bbe30fb3ca539e81,\n",
              "                    &quot;USGS_3DEP_10m&quot; : tile_layer_e6f12dbf6ba0f85d9602e4f71a40bf04,\n",
              "                },\n",
              "            };\n",
              "            L.control.layers(\n",
              "                layer_control_ae2e6d752bd143acafe208bc8c509837.base_layers,\n",
              "                layer_control_ae2e6d752bd143acafe208bc8c509837.overlays,\n",
              "                {&quot;autoZIndex&quot;: true, &quot;collapsed&quot;: true, &quot;position&quot;: &quot;topright&quot;}\n",
              "            ).addTo(map_b34a62bc7bbe348813084a2d654719a7);\n",
              "        \n",
              "&lt;/script&gt;\" style=\"position:absolute;width:100%;height:100%;left:0;top:0;border:none !important;\" allowfullscreen webkitallowfullscreen mozallowfullscreen></iframe></div></div>"
            ]
          },
          "metadata": {},
          "execution_count": 92
        }
      ]
    },
    {
      "cell_type": "markdown",
      "source": [
        "# Export to Drive Folder"
      ],
      "metadata": {
        "id": "9j-s_I5h657W"
      }
    },
    {
      "cell_type": "code",
      "source": [
        "rootPath = '/content/drive/My Drive/hillshade product/results'\n",
        "os.chdir(rootPath)"
      ],
      "metadata": {
        "id": "24bMYEpN9lWc"
      },
      "execution_count": null,
      "outputs": []
    },
    {
      "cell_type": "code",
      "source": [
        "geometry = ee.Geometry.Rectangle([116.2621, 39.8412, 116.4849, 40.01236])\n",
        "\n",
        "CA_geom = ee.FeatureCollection('users/escaduto/CA_FireTrends/CA_Extent').geometry()\n",
        "US_geom = ee.FeatureCollection('projects/ee-globaldem/assets/USA_Boundary').geometry()"
      ],
      "metadata": {
        "id": "wfYjQSGB-B7Z"
      },
      "execution_count": null,
      "outputs": []
    },
    {
      "cell_type": "code",
      "source": [
        "# Export the image, specifying scale and region.\n",
        "task = ee.batch.Export.image.toDrive(**{\n",
        "    'image': USGS_DEM_10m,\n",
        "    'description': 'USGS_DEM_CA_10m',\n",
        "    'folder':'USGS_DEM_CA_10m',\n",
        "    'scale': 10,\n",
        "    'region': CA_geom,\n",
        "    'maxPixels': 1e13\n",
        "})\n",
        "task.start()"
      ],
      "metadata": {
        "id": "vgSIGhCxnW8Q"
      },
      "execution_count": null,
      "outputs": []
    },
    {
      "cell_type": "code",
      "source": [
        "# Export the image, specifying scale and region.\n",
        "task = ee.batch.Export.image.toDrive(**{\n",
        "    'image': SHADED_RELIEF,\n",
        "    'description': 'shaderelief_USA_30m',\n",
        "    'folder':'Shaded_Relief_USA_30m',\n",
        "    'scale': 30,\n",
        "    'region': US_geom,\n",
        "    'maxPixels': 1e13\n",
        "})\n",
        "task.start()"
      ],
      "metadata": {
        "id": "a0b_VnHX18AH"
      },
      "execution_count": null,
      "outputs": []
    },
    {
      "cell_type": "code",
      "source": [
        "import time \n",
        "while task.active():\n",
        "  print('Polling for task (id: {}).'.format(task.id))\n",
        "  time.sleep(5)"
      ],
      "metadata": {
        "id": "_HvtqaEZ2ELV"
      },
      "execution_count": null,
      "outputs": []
    },
    {
      "cell_type": "markdown",
      "source": [
        "# Export to Cloud Bucket"
      ],
      "metadata": {
        "id": "Xij8Dc_QwIjl"
      }
    },
    {
      "cell_type": "code",
      "source": [
        "outputBucket = 'global_hillshade' #Change for your Cloud Storage bucket\n",
        "\n",
        "# Export the image, specifying scale and region.\n",
        "task = ee.batch.Export.image.toCloudStorage(**{\n",
        "    'image': SHADED_RELIEF,\n",
        "    'description': 'shaderelief_USA_30m',\n",
        "    'scale': 30,\n",
        "    'region': US_geom,\n",
        "    'maxPixels': 1e13,\n",
        "    'fileFormat': 'GeoTIFF',\n",
        "    'bucket': outputBucket,\n",
        "    'formatOptions': {'cloudOptimized': True}\n",
        "})\n",
        "task.start()"
      ],
      "metadata": {
        "id": "xZ7INi8h-TNs"
      },
      "execution_count": null,
      "outputs": []
    },
    {
      "cell_type": "code",
      "source": [
        "while task.active():\n",
        "  print('Polling for task (id: {}).'.format(task.id))\n",
        "  time.sleep(30)\n",
        "else: \n",
        "  print('Completed task (id: {})!!'.format(task.id))"
      ],
      "metadata": {
        "id": "7L7FlWHxDbEq"
      },
      "execution_count": null,
      "outputs": []
    },
    {
      "cell_type": "markdown",
      "source": [
        "# Retrieve tif files in folder "
      ],
      "metadata": {
        "id": "wPQFcfo8r14x"
      }
    },
    {
      "cell_type": "code",
      "source": [
        "import rasterio\n",
        "from rasterio.merge import merge\n",
        "from rasterio.plot import show\n",
        "import glob\n",
        "import os"
      ],
      "metadata": {
        "id": "WEQzWsK6tNwi"
      },
      "execution_count": null,
      "outputs": []
    },
    {
      "cell_type": "code",
      "source": [
        "dirpath = \"/content/drive/My Drive/hillshade product/results/Shaded_Relief_v1\""
      ],
      "metadata": {
        "id": "vlilCj_tr5-O"
      },
      "execution_count": null,
      "outputs": []
    },
    {
      "cell_type": "code",
      "source": [
        "os.chdir(\"/content/drive/My Drive/hillshade product/results/Shaded_Relief_v1\")\n",
        "dem_fps = os.listdir()"
      ],
      "metadata": {
        "id": "wk4a6n0BvGDs"
      },
      "execution_count": null,
      "outputs": []
    },
    {
      "cell_type": "code",
      "source": [
        "dem_fps"
      ],
      "metadata": {
        "colab": {
          "base_uri": "https://localhost:8080/"
        },
        "id": "40qiU9QUwATE",
        "outputId": "91fa6c12-a0ad-4388-b6a9-5b6d94a3f5c3"
      },
      "execution_count": null,
      "outputs": [
        {
          "output_type": "execute_result",
          "data": {
            "text/plain": [
              "['shaderelief_export-0000000000-0000000000.tif',\n",
              " 'shaderelief_export-0000000000-0000023296.tif',\n",
              " 'shaderelief_export-0000023296-0000000000.tif',\n",
              " 'shaderelief_export-0000023296-0000023296.tif']"
            ]
          },
          "metadata": {},
          "execution_count": 21
        }
      ]
    },
    {
      "cell_type": "markdown",
      "source": [
        "# Create Continuous tif & Reduce size"
      ],
      "metadata": {
        "id": "ZRWBTJzPr6rr"
      }
    },
    {
      "cell_type": "code",
      "source": [
        "src_files_to_mosaic = []"
      ],
      "metadata": {
        "id": "gucdYrB_r_oL"
      },
      "execution_count": null,
      "outputs": []
    },
    {
      "cell_type": "code",
      "source": [
        "for fp in dem_fps:\n",
        "  src = rasterio.open(fp)\n",
        "  src_files_to_mosaic.append(src)\n",
        "\n",
        "src_files_to_mosaic"
      ],
      "metadata": {
        "colab": {
          "base_uri": "https://localhost:8080/"
        },
        "id": "3o9a1DWwwlms",
        "outputId": "8ef33619-12af-4e72-d9a1-594ea17be0e8"
      },
      "execution_count": null,
      "outputs": [
        {
          "output_type": "execute_result",
          "data": {
            "text/plain": [
              "[<open DatasetReader name='shaderelief_export-0000000000-0000000000.tif' mode='r'>,\n",
              " <open DatasetReader name='shaderelief_export-0000000000-0000023296.tif' mode='r'>,\n",
              " <open DatasetReader name='shaderelief_export-0000023296-0000000000.tif' mode='r'>,\n",
              " <open DatasetReader name='shaderelief_export-0000023296-0000023296.tif' mode='r'>]"
            ]
          },
          "metadata": {},
          "execution_count": 23
        }
      ]
    },
    {
      "cell_type": "code",
      "source": [
        "mosaic, out_trans = merge(src_files_to_mosaic)"
      ],
      "metadata": {
        "id": "43dI8ivRwq3R"
      },
      "execution_count": null,
      "outputs": []
    },
    {
      "cell_type": "code",
      "source": [
        "show(mosaic, cmap='terrain')"
      ],
      "metadata": {
        "id": "wNCrMOTQwu9G"
      },
      "execution_count": null,
      "outputs": []
    },
    {
      "cell_type": "code",
      "source": [
        "# Copy the metadata\n",
        "out_meta = src.meta.copy()\n",
        "\n",
        "# Update the metadata\n",
        "out_meta.update({\"driver\": \"GTiff\",\"height\": mosaic.shape[1],\n",
        "                 \"width\": mosaic.shape[2],\n",
        "                 \"transform\": out_trans})\n"
      ],
      "metadata": {
        "id": "YV7o2H-jZebE"
      },
      "execution_count": null,
      "outputs": []
    },
    {
      "cell_type": "code",
      "source": [
        "out_fp = 'Shaded_Relief_CA_30m.tif'\n",
        "with rasterio.open(out_fp, \"w\", **out_meta) as dest:\n",
        "  dest.write(mosaic)"
      ],
      "metadata": {
        "id": "KDFNqLboY4rI"
      },
      "execution_count": null,
      "outputs": []
    },
    {
      "cell_type": "code",
      "source": [
        ""
      ],
      "metadata": {
        "id": "HIDhWqmKa1wg"
      },
      "execution_count": null,
      "outputs": []
    }
  ]
}